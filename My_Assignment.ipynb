{
  "nbformat": 4,
  "nbformat_minor": 0,
  "metadata": {
    "colab": {
      "provenance": [],
      "authorship_tag": "ABX9TyMTZCAGRCE+K8luPVDe7kpa",
      "include_colab_link": true
    },
    "kernelspec": {
      "name": "python3",
      "display_name": "Python 3"
    },
    "language_info": {
      "name": "python"
    }
  },
  "cells": [
    {
      "cell_type": "markdown",
      "metadata": {
        "id": "view-in-github",
        "colab_type": "text"
      },
      "source": [
        "<a href=\"https://colab.research.google.com/github/hola-barnny/my-portfolio/blob/main/My_Assignment.ipynb\" target=\"_parent\"><img src=\"https://colab.research.google.com/assets/colab-badge.svg\" alt=\"Open In Colab\"/></a>"
      ]
    },
    {
      "cell_type": "code",
      "execution_count": 4,
      "metadata": {
        "colab": {
          "base_uri": "https://localhost:8080/"
        },
        "id": "6sYkJgpdyqZv",
        "outputId": "a649cf4c-3f4b-4aae-f7f8-08d3ca2381e4"
      },
      "outputs": [
        {
          "output_type": "stream",
          "name": "stdout",
          "text": [
            "Todos for Today:\n",
            "1. Sweeping\n",
            "2. Cooking\n",
            "3. Learning Python\n",
            "4. Prepare for Work\n",
            "5. Take a Nap\n",
            "6. Study my Bible\n"
          ]
        }
      ],
      "source": [
        "# PSET 1: Create a todo list using a list\n",
        "todo_list = [\"Sweeping\", \"Cooking\", \"Learning Python\", \"Prepare for Work\", \"Take a Nap\", \"Study my Bible\"]\n",
        "\n",
        "# Operation to get todos for a particular day one after the other\n",
        "def day_after_day_todos(day):\n",
        "    print(f\"Todos for {day}:\")\n",
        "    for index in range(len(todo_list)):\n",
        "        print(f\"{index + 1}. {todo_list[index]}\")\n",
        "\n",
        "# Display the result of todos\n",
        "day_after_day_todos(\"Today\")"
      ]
    },
    {
      "cell_type": "code",
      "source": [
        "# PSET 2: Create a dictionary that contains your basic bio information\n",
        "basic_bio_info = {\n",
        "    \"First_Name\": \"Olaitan\",\n",
        "    \"Last_Name\": \"Banire\",\n",
        "    \"Age\": 35,\n",
        "    \"Job_Title\": \"Data Analyst\",\n",
        "    \"Hobbies\": [\"Swimming\", \"Reading\", \"Singing\", \"Driving\", \"Travelling\"],\n",
        "    \"Skills\": [\"Data Analyst\", \"Web Developer\", \"Business Analyst\", \"Python\"]\n",
        "}"
      ],
      "metadata": {
        "id": "NTa1kYWv14qP"
      },
      "execution_count": 8,
      "outputs": []
    },
    {
      "cell_type": "code",
      "source": [
        "# PSET 3: Loop through the bio dictionary and print key and value for skills to stand-out\n",
        "# basic bio information\n",
        "print(f\"My name is {basic_bio_info['First_Name']} {basic_bio_info['Last_Name']}\")\n",
        "print(f\"My Age is {basic_bio_info['Age']}\")\n",
        "\n",
        "# Print hobbies\n",
        "print(\"My Hobbies are:\")\n",
        "for hobby in basic_bio_info[\"Hobbies\"]:\n",
        "    print(hobby)\n",
        "\n",
        "# Print skills\n",
        "print(\"My Skills are:\")\n",
        "for skill in basic_bio_info[\"Skills\"]:\n",
        "    print(skill)"
      ],
      "metadata": {
        "colab": {
          "base_uri": "https://localhost:8080/"
        },
        "id": "1mUAc45v5IpI",
        "outputId": "adfbd9a6-7558-4657-d773-85467882a4a6"
      },
      "execution_count": 10,
      "outputs": [
        {
          "output_type": "stream",
          "name": "stdout",
          "text": [
            "My name is Olaitan Banire\n",
            "My Age is 35\n",
            "My Hobbies are:\n",
            "Swimming\n",
            "Reading\n",
            "Singing\n",
            "Driving\n",
            "Travelling\n",
            "My Skills are:\n",
            "Data Analyst\n",
            "Web Developer\n",
            "Business Analyst\n",
            "Python\n"
          ]
        }
      ]
    },
    {
      "cell_type": "code",
      "source": [
        "# PSET 4: Use a lambda expression to double each item in list of range 1-50 using list comprehension\n",
        "double_Item = [x * 2 for x in range(1, 51)]\n",
        "print(double_Item)"
      ],
      "metadata": {
        "colab": {
          "base_uri": "https://localhost:8080/"
        },
        "id": "LvHuh4WQ-K40",
        "outputId": "d0ce7268-347d-4dc0-dabc-9ffe26a004da"
      },
      "execution_count": 11,
      "outputs": [
        {
          "output_type": "stream",
          "name": "stdout",
          "text": [
            "[2, 4, 6, 8, 10, 12, 14, 16, 18, 20, 22, 24, 26, 28, 30, 32, 34, 36, 38, 40, 42, 44, 46, 48, 50, 52, 54, 56, 58, 60, 62, 64, 66, 68, 70, 72, 74, 76, 78, 80, 82, 84, 86, 88, 90, 92, 94, 96, 98, 100]\n"
          ]
        }
      ]
    },
    {
      "cell_type": "code",
      "source": [],
      "metadata": {
        "id": "63Q1VPci_ejy"
      },
      "execution_count": null,
      "outputs": []
    }
  ]
}